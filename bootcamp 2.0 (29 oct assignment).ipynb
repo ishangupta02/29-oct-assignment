{
 "cells": [
  {
   "cell_type": "markdown",
   "id": "6bcb6067",
   "metadata": {},
   "source": [
    "## write a function which will try to find out length of the string with using inbuilt function."
   ]
  },
  {
   "cell_type": "code",
   "execution_count": 1,
   "id": "915fc40c",
   "metadata": {},
   "outputs": [
    {
     "name": "stdout",
     "output_type": "stream",
     "text": [
      "Enter stringThis is my first function\n",
      "Length of the string is:  \n",
      "25\n"
     ]
    }
   ],
   "source": [
    "string = input(\"Enter string\")\n",
    "count = 0\n",
    "for i in string:\n",
    "    count = count+1\n",
    "print(\"Length of the string is:  \")\n",
    "print(count)"
   ]
  },
  {
   "cell_type": "markdown",
   "id": "b875c982",
   "metadata": {},
   "source": [
    "## write a funciton whcih will able to print an index of a list element without using an index function."
   ]
  },
  {
   "cell_type": "code",
   "execution_count": 7,
   "id": "a294e4f2",
   "metadata": {},
   "outputs": [],
   "source": [
    "count=0\n",
    "def locate_index(x,n):\n",
    "    count=0\n",
    "    for num in x:\n",
    "        if n% num==0:\n",
    "            count+=1\n",
    "        if count==2:\n",
    "            return"
   ]
  },
  {
   "cell_type": "markdown",
   "id": "af97ec28",
   "metadata": {},
   "source": [
    "## write a function which will able to print an ip adress of your system"
   ]
  },
  {
   "cell_type": "code",
   "execution_count": 11,
   "id": "01d9fa56",
   "metadata": {},
   "outputs": [
    {
     "name": "stdout",
     "output_type": "stream",
     "text": [
      "Your computer name is: HOMELAPTOP\n",
      "Your computer IP address is:192.168.1.11\n"
     ]
    }
   ],
   "source": [
    "import socket\n",
    "hostname=socket.gethostname()\n",
    "IPAddr=socket.gethostbyname(hostname)\n",
    "print(\"Your computer name is: \"+hostname)\n",
    "print(\"Your computer IP address is:\" +IPAddr)"
   ]
  },
  {
   "cell_type": "markdown",
   "id": "e9d2b6f1",
   "metadata": {},
   "source": [
    "## write a function which will shut down your computer"
   ]
  },
  {
   "cell_type": "code",
   "execution_count": 12,
   "id": "9bf58ab3",
   "metadata": {},
   "outputs": [
    {
     "name": "stdout",
     "output_type": "stream",
     "text": [
      "Do you wish to shutdown your computerno\n"
     ]
    }
   ],
   "source": [
    "import os\n",
    "shutdown = input(\"Do you wish to shutdown your computer\")\n",
    "if shutdown ==\"no\":\n",
    "    exit()\n",
    "else:\n",
    "    os.system(\"shutdown/ s/ t 1\")"
   ]
  },
  {
   "cell_type": "markdown",
   "id": "528d64cc",
   "metadata": {},
   "source": [
    "## write a function which will take input as a list with any kind of numeric value and give out of multiplication of all the numeric data"
   ]
  },
  {
   "cell_type": "code",
   "execution_count": null,
   "id": "9952452c",
   "metadata": {},
   "outputs": [],
   "source": []
  },
  {
   "cell_type": "markdown",
   "id": "2eb3675b",
   "metadata": {},
   "source": [
    "## write a function which will able to read all the mails"
   ]
  },
  {
   "cell_type": "code",
   "execution_count": 1,
   "id": "90df541f",
   "metadata": {},
   "outputs": [
    {
     "ename": "SyntaxError",
     "evalue": "invalid syntax (152265620.py, line 3)",
     "output_type": "error",
     "traceback": [
      "\u001b[1;36m  Input \u001b[1;32mIn [1]\u001b[1;36m\u001b[0m\n\u001b[1;33m    form email.header import decode_header\u001b[0m\n\u001b[1;37m         ^\u001b[0m\n\u001b[1;31mSyntaxError\u001b[0m\u001b[1;31m:\u001b[0m invalid syntax\n"
     ]
    }
   ],
   "source": [
    "import imaplib\n",
    "import email\n",
    "form email.header import decode_header\n",
    "import webbrowser\n",
    "import os\n",
    "\n",
    "username = \"youremailaddress@gmail.com\"\n",
    "password = \"yourpassword\"\n",
    "\n",
    "imap_server = \"outlook.office365.com\"\n",
    "\n",
    "def clean(text):\n",
    "    return \"\".join(c if c.isalnum()else \"_\" for c in text)"
   ]
  },
  {
   "cell_type": "markdown",
   "id": "abc41edd",
   "metadata": {},
   "source": [
    "## write a function which will be able to send mail to anyone"
   ]
  },
  {
   "cell_type": "code",
   "execution_count": 2,
   "id": "1423b98d",
   "metadata": {},
   "outputs": [
    {
     "ename": "SyntaxError",
     "evalue": "invalid syntax (441131003.py, line 1)",
     "output_type": "error",
     "traceback": [
      "\u001b[1;36m  Input \u001b[1;32mIn [2]\u001b[1;36m\u001b[0m\n\u001b[1;33m    me:  ::1\u001b[0m\n\u001b[1;37m         ^\u001b[0m\n\u001b[1;31mSyntaxError\u001b[0m\u001b[1;31m:\u001b[0m invalid syntax\n"
     ]
    }
   ],
   "source": [
    "me:  ::1\n",
    "\"\"\n",
    "from: myaddress.com\n",
    "to: youraddress.com\n",
    "subject: a local test mail\n",
    "    \n",
    "    hello there, here is a test email"
   ]
  },
  {
   "cell_type": "markdown",
   "id": "1eab7280",
   "metadata": {},
   "source": [
    " ## write a function which will able to read all docs from your computer"
   ]
  },
  {
   "cell_type": "code",
   "execution_count": 3,
   "id": "91a66261",
   "metadata": {},
   "outputs": [
    {
     "ename": "ModuleNotFoundError",
     "evalue": "No module named 'docx'",
     "output_type": "error",
     "traceback": [
      "\u001b[1;31m---------------------------------------------------------------------------\u001b[0m",
      "\u001b[1;31mModuleNotFoundError\u001b[0m                       Traceback (most recent call last)",
      "Input \u001b[1;32mIn [3]\u001b[0m, in \u001b[0;36m<cell line: 1>\u001b[1;34m()\u001b[0m\n\u001b[1;32m----> 1\u001b[0m \u001b[38;5;28;01mimport\u001b[39;00m \u001b[38;5;21;01mdocx\u001b[39;00m\n\u001b[0;32m      2\u001b[0m doc \u001b[38;5;241m=\u001b[39mdocx\u001b[38;5;241m.\u001b[39mDocument()\n\u001b[0;32m      3\u001b[0m all_paras \u001b[38;5;241m=\u001b[39m doc\u001b[38;5;241m.\u001b[39mparagraphs\n",
      "\u001b[1;31mModuleNotFoundError\u001b[0m: No module named 'docx'"
     ]
    }
   ],
   "source": [
    "import docx\n",
    "doc =docx.Document()\n",
    "all_paras = doc.paragraphs\n",
    "len(all_paras)\n",
    "for para in all_paras:\n",
    "    print(para.text)\n",
    "    print(\"-------\")"
   ]
  },
  {
   "cell_type": "code",
   "execution_count": null,
   "id": "6b306648",
   "metadata": {},
   "outputs": [],
   "source": []
  },
  {
   "cell_type": "code",
   "execution_count": null,
   "id": "85a2dfcf",
   "metadata": {},
   "outputs": [],
   "source": []
  },
  {
   "cell_type": "code",
   "execution_count": null,
   "id": "764b8f2c",
   "metadata": {},
   "outputs": [],
   "source": []
  },
  {
   "cell_type": "code",
   "execution_count": null,
   "id": "ea215eb5",
   "metadata": {},
   "outputs": [],
   "source": []
  }
 ],
 "metadata": {
  "kernelspec": {
   "display_name": "Python 3 (ipykernel)",
   "language": "python",
   "name": "python3"
  },
  "language_info": {
   "codemirror_mode": {
    "name": "ipython",
    "version": 3
   },
   "file_extension": ".py",
   "mimetype": "text/x-python",
   "name": "python",
   "nbconvert_exporter": "python",
   "pygments_lexer": "ipython3",
   "version": "3.9.12"
  }
 },
 "nbformat": 4,
 "nbformat_minor": 5
}
